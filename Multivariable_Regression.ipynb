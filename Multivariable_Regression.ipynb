{
  "nbformat": 4,
  "nbformat_minor": 0,
  "metadata": {
    "colab": {
      "provenance": [],
      "authorship_tag": "ABX9TyOgiAhTHbbVCL/SPsLUANth",
      "include_colab_link": true
    },
    "kernelspec": {
      "name": "python3",
      "display_name": "Python 3"
    },
    "language_info": {
      "name": "python"
    }
  },
  "cells": [
    {
      "cell_type": "markdown",
      "metadata": {
        "id": "view-in-github",
        "colab_type": "text"
      },
      "source": [
        "<a href=\"https://colab.research.google.com/github/adityashirsatrao007/Machine-Learning-College/blob/main/Multivariable_Regression.ipynb\" target=\"_parent\"><img src=\"https://colab.research.google.com/assets/colab-badge.svg\" alt=\"Open In Colab\"/></a>"
      ]
    },
    {
      "cell_type": "code",
      "execution_count": null,
      "metadata": {
        "colab": {
          "base_uri": "https://localhost:8080/"
        },
        "id": "vpKxGExxFZFQ",
        "outputId": "c2949951-d16b-45e7-c73d-b14019c1c467"
      },
      "outputs": [
        {
          "output_type": "stream",
          "name": "stdout",
          "text": [
            "Mean Squared Error (MSE): 0.5559\n",
            "R-squared (R2): 0.5758\n",
            "\n",
            "Coefficients:\n",
            "      Feature  Coefficient\n",
            "0      MedInc     0.448675\n",
            "1    HouseAge     0.009724\n",
            "2    AveRooms    -0.123323\n",
            "3   AveBedrms     0.783145\n",
            "4  Population    -0.000002\n",
            "5    AveOccup    -0.003526\n",
            "6    Latitude    -0.419792\n",
            "7   Longitude    -0.433708\n"
          ]
        }
      ],
      "source": [
        "import pandas as pd\n",
        "from sklearn.datasets import fetch_california_housing # Changed from load_boston\n",
        "from sklearn.model_selection import train_test_split\n",
        "from sklearn.linear_model import LinearRegression\n",
        "from sklearn.metrics import mean_squared_error, r2_score\n",
        "\n",
        "# Load the California Housing dataset\n",
        "housing = fetch_california_housing() # Changed from boston = load_boston()\n",
        "X = pd.DataFrame(housing.data, columns=housing.feature_names) # Changed from boston.data, boston.feature_names\n",
        "y = housing.target # Changed from boston.target\n",
        "\n",
        "# Split the data into training and testing sets (80% training, 20% testing)\n",
        "X_train, X_test, y_train, y_test = train_test_split(X, y, test_size=0.2, random_state=42)\n",
        "\n",
        "# Instantiate the Linear Regression model\n",
        "model = LinearRegression()\n",
        "\n",
        "# Train the model on the training set\n",
        "model.fit(X_train, y_train)\n",
        "\n",
        "# Make predictions on the testing set\n",
        "y_pred = model.predict(X_test)\n",
        "\n",
        "# Evaluate the model\n",
        "mse = mean_squared_error(y_test, y_pred)\n",
        "r2 = r2_score(y_test, y_pred)\n",
        "\n",
        "# Display the evaluation metrics\n",
        "print(f\"Mean Squared Error (MSE): {mse:.4f}\")\n",
        "print(f\"R-squared (R2): {r2:.4f}\")\n",
        "\n",
        "# Display the coefficients for each feature\n",
        "coefficients = pd.DataFrame({'Feature': X.columns, 'Coefficient': model.coef_})\n",
        "print(\"\\nCoefficients:\")\n",
        "print(coefficients)"
      ]
    }
  ]
}